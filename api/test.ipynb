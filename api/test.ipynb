{
 "cells": [
  {
   "cell_type": "code",
   "execution_count": 5,
   "id": "681b1126-1b3c-4fc9-9eb5-7f459c8f7691",
   "metadata": {},
   "outputs": [],
   "source": [
    "from fastapi import FastAPI, File, UploadFile\n",
    "from fastapi.exceptions import HTTPException\n",
    "import requests\n",
    "from pydantic import BaseModel\n",
    "import pandas as pd\n",
    "import numpy as np\n",
    "from io import StringIO\n",
    "import shap\n",
    "import pickle\n",
    "import modules.my_functions as mf"
   ]
  },
  {
   "cell_type": "code",
   "execution_count": 6,
   "id": "543eeba8-8b79-471e-b003-987ba69791d1",
   "metadata": {},
   "outputs": [],
   "source": [
    "with open(\"model.pkl\", \"rb\") as file:\n",
    "    pipeline  = pickle.load(file)\n",
    "\n"
   ]
  },
  {
   "cell_type": "code",
   "execution_count": 3,
   "id": "218e895c-930d-48fe-a1cf-ff4f78f18092",
   "metadata": {},
   "outputs": [],
   "source": [
    "model_with_threshold = pipeline.named_steps['model_with_threshold']\n",
    "lgbm_model = model_with_threshold.model  # Accéder au modèle encapsulé\n",
    "explainer = shap.TreeExplainer(lgbm_model) "
   ]
  },
  {
   "cell_type": "code",
   "execution_count": null,
   "id": "e075447c-7c88-4dd6-9b1d-5016ecc722c3",
   "metadata": {},
   "outputs": [],
   "source": []
  },
  {
   "cell_type": "code",
   "execution_count": null,
   "id": "62b6998f-2a41-4ace-8b15-ed505c405886",
   "metadata": {},
   "outputs": [],
   "source": []
  },
  {
   "cell_type": "code",
   "execution_count": null,
   "id": "671f88e4-d2e4-4dc9-a0de-7e97af66d559",
   "metadata": {},
   "outputs": [],
   "source": []
  },
  {
   "cell_type": "code",
   "execution_count": null,
   "id": "fc9aabe7-6b17-43fa-a89e-5eb1138376a9",
   "metadata": {},
   "outputs": [],
   "source": []
  },
  {
   "cell_type": "code",
   "execution_count": null,
   "id": "87b85f2e-8313-46fb-9768-409a2cc1a592",
   "metadata": {},
   "outputs": [],
   "source": []
  },
  {
   "cell_type": "code",
   "execution_count": null,
   "id": "2f669856-ee24-4b05-b14d-5c914d77f3fe",
   "metadata": {},
   "outputs": [],
   "source": []
  },
  {
   "cell_type": "code",
   "execution_count": null,
   "id": "1e646dd7-d4f6-43ed-b893-b63702a74ba0",
   "metadata": {},
   "outputs": [],
   "source": []
  },
  {
   "cell_type": "code",
   "execution_count": null,
   "id": "c9aa4d2c-90b3-47d0-903d-06a22fdc30a4",
   "metadata": {},
   "outputs": [],
   "source": []
  },
  {
   "cell_type": "code",
   "execution_count": null,
   "id": "59166982-0382-4d8a-8d63-62dc02e61606",
   "metadata": {},
   "outputs": [],
   "source": []
  },
  {
   "cell_type": "code",
   "execution_count": null,
   "id": "dcc9306b-b82d-4784-836e-4c09d62d821c",
   "metadata": {},
   "outputs": [],
   "source": []
  },
  {
   "cell_type": "code",
   "execution_count": null,
   "id": "48c7a849-25ba-4ed7-bffb-2614e9a57bb5",
   "metadata": {},
   "outputs": [],
   "source": []
  }
 ],
 "metadata": {
  "kernelspec": {
   "display_name": "python3-9",
   "language": "python",
   "name": "python3-9"
  },
  "language_info": {
   "codemirror_mode": {
    "name": "ipython",
    "version": 3
   },
   "file_extension": ".py",
   "mimetype": "text/x-python",
   "name": "python",
   "nbconvert_exporter": "python",
   "pygments_lexer": "ipython3",
   "version": "3.12.2"
  }
 },
 "nbformat": 4,
 "nbformat_minor": 5
}
